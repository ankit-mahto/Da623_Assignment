{
  "nbformat": 4,
  "nbformat_minor": 0,
  "metadata": {
    "colab": {
      "provenance": []
    },
    "kernelspec": {
      "name": "python3",
      "display_name": "Python 3"
    },
    "language_info": {
      "name": "python"
    }
  },
  "cells": [
    {
      "cell_type": "markdown",
      "source": [
        "# DA:623 Assignment: Train and demonstrate the decision boundaries for logistic regression, for binary classification"
      ],
      "metadata": {
        "id": "2l0B2FMNY6-u"
      }
    },
    {
      "cell_type": "markdown",
      "source": [
        "## Objectives\n",
        "In this lab, our objectives are as follows:\n",
        "\n",
        "1. Loading and preprocessing the Diabetes dataset.\n",
        "2. Training a logistic regression model to establish the decision boundary.\n",
        "3. Evaluating the performance of the decision boundary on a separate test dataset."
      ],
      "metadata": {
        "id": "9zrnj8fOZlPd"
      }
    },
    {
      "cell_type": "markdown",
      "source": [
        "# **Logistic Regression**\n",
        "The fundamental application of logistic regression is to determine a decision boundary for a binary classification problem. Although the baseline is to identify a binary decision boundary, the approach can be very well applied for scenarios with multiple classification classes or multi-class classification.\n"
      ],
      "metadata": {
        "id": "6PD9DFK5ZfyZ"
      }
    },
    {
      "cell_type": "markdown",
      "source": [
        "![download.png](data:image/png;base64,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)\n",
        "\n",
        "In the above diagram, the dashed line can be identified as the decision boundary since we will observe instances of a different class on each side of the boundary. Our intention in logistic regression would be to decide on a proper fit to the decision boundary so that we will be able to predict which class a new feature set might correspond to. The interesting fact about logistic regression is the utilization of the sigmoid function as the target class estimator."
      ],
      "metadata": {
        "id": "ubdlv3ixbMCW"
      }
    },
    {
      "cell_type": "markdown",
      "source": [
        "#The Sigmoid Function"
      ],
      "metadata": {
        "id": "9Ipe2Wf5aPO1"
      }
    },
    {
      "cell_type": "markdown",
      "source": [
        "\n",
        "\n",
        "* For logistic regression, the model is represented as\n",
        "\n",
        "  $$f_{\\mathbf{w},b}(\\mathbf{x}^{(i)}) = g(\\mathbf{w} \\cdot \\mathbf{x}^{(i)} + b) \\tag{1}$$\n",
        "\n",
        "  where $g(z)$ is known as the sigmoid function and it maps all input values to values between 0 and 1:\n",
        "\n",
        "  $g(z) = \\frac{1}{1+e^{-z}}\\tag{2}$\n",
        "\n",
        "  \n",
        "  and $\\mathbf{w} \\cdot \\mathbf{x}$ is the vector dot product:\n",
        "  \n",
        "  $$\\mathbf{w} \\cdot \\mathbf{x} = w_0 x_0 + w_1 x_1$$\n",
        "  \n",
        "  \n",
        " * We interpret the output of the model ($f_{\\mathbf{w},b}(x)$) as the probability that $y=1$ given $\\mathbf{x}$ and parameterized by $\\mathbf{w}$ and $b$.\n",
        "* Therefore, to get a final prediction ($y=0$ or $y=1$) from the logistic regression model, we can use the following heuristic -\n",
        "\n",
        "  if $f_{\\mathbf{w},b}(x) >= 0$, predict $y=1$\n",
        "  \n",
        "  if $f_{\\mathbf{w},b}(x) < 0$, predict $y=0$"
      ],
      "metadata": {
        "id": "8pgbF52v9W4G"
      }
    },
    {
      "cell_type": "markdown",
      "source": [
        "# Implementation of Logistic Regression in Python"
      ],
      "metadata": {
        "id": "1V9l3zP3ebiv"
      }
    },
    {
      "cell_type": "markdown",
      "source": [
        "**Import necessary libraries**"
      ],
      "metadata": {
        "id": "nlz59f9AfOEn"
      }
    },
    {
      "cell_type": "code",
      "source": [
        "# Import necessary libraries\n",
        "import numpy as np\n",
        "import pandas as pd\n",
        "import matplotlib.pyplot as plt\n",
        "import seaborn as sns\n",
        "from sklearn.datasets import load_diabetes\n",
        "from sklearn.model_selection import train_test_split\n",
        "from sklearn.preprocessing import StandardScaler\n",
        "from sklearn.linear_model import LogisticRegression\n",
        "from sklearn.metrics import accuracy_score, classification_report, confusion_matrix, roc_curve, auc\n"
      ],
      "metadata": {
        "id": "DSZc84nSebM1"
      },
      "execution_count": 2,
      "outputs": []
    },
    {
      "cell_type": "markdown",
      "source": [
        "The following code loads the diabetes dataset using the load_diabetes function from scikit-learn, passing in feature data X and target values y. Then, it converts the binary representation of the continuous target variable y.\n",
        "\n",
        " A patient’s diabetes measure is classified as 1 (indicating diabetes) if it is higher than the median value, and as 0 (showing no diabetes)."
      ],
      "metadata": {
        "id": "sVQ_LSBnff-L"
      }
    },
    {
      "cell_type": "markdown",
      "source": [
        "For simplicity , we have taken only two features from the dataset.\n",
        "\n",
        "*   3rd feature - BMI\n",
        "*   9th feature - s5\n",
        "\n"
      ],
      "metadata": {
        "id": "hHkQXSYLw6fK"
      }
    },
    {
      "cell_type": "code",
      "source": [
        "# Load the diabetes dataset\n",
        "diabetes = load_diabetes()\n",
        "X, y = diabetes.data[:,[2,8]], diabetes.target\n",
        "\n",
        "\n",
        "# Convert the target variable to binary (1 for diabetes, 0 for no diabetes)\n",
        "y_binary = (y > np.median(y)).astype(int)\n"
      ],
      "metadata": {
        "id": "wIJJxIH4fp5W"
      },
      "execution_count": 4,
      "outputs": []
    },
    {
      "cell_type": "markdown",
      "source": [
        "**Splitting The Dataset**:\n",
        "\n",
        "Train and Test dataset\n",
        "Splitting the dataset to train and test. 80% of data is used for training the model and 20% of it is used to test the performance of our model.  "
      ],
      "metadata": {
        "id": "CVz7K5jrfrlh"
      }
    },
    {
      "cell_type": "code",
      "source": [
        "# Split the data into training and testing sets\n",
        "X_train, X_test, y_train, y_test = train_test_split(\n",
        "\tX, y_binary, test_size=0.2, random_state=42)\n"
      ],
      "metadata": {
        "id": "CTPocGSGfss7"
      },
      "execution_count": 5,
      "outputs": []
    },
    {
      "cell_type": "markdown",
      "source": [
        "**Feature Scaling**"
      ],
      "metadata": {
        "id": "17LQZthagPty"
      }
    },
    {
      "cell_type": "code",
      "source": [
        "# Standardize features\n",
        "scaler = StandardScaler()\n",
        "X_train = scaler.fit_transform(X_train)\n",
        "X_test = scaler.transform(X_test)\n"
      ],
      "metadata": {
        "id": "SBfOJeEMgQTI"
      },
      "execution_count": 6,
      "outputs": []
    },
    {
      "cell_type": "markdown",
      "source": [
        "The StandardScaler instance is created; this will be used to standardize the features. It uses the scaler’s fit_transform method to normalize the training data (X_train) and determine its mean and standard deviation. Then, it standardizes the testing data (X_test) using the calculated mean and standard deviation from the training set. Model training and evaluation are made easier by standardization, which guarantees that the features have a mean of 0 and a standard deviation of 1."
      ],
      "metadata": {
        "id": "gTGQr5pyg9-_"
      }
    },
    {
      "cell_type": "markdown",
      "source": [
        "**Train The Model**\n",
        "\n",
        "It establishes a logistic regression model instance.Then, it employs the fit approach to train the model using the binary target values (y_train) and standardized training data (X_train). Following execution, the model object may now be used to forecast new data using the patterns it has learnt from the training set."
      ],
      "metadata": {
        "id": "BwWYPOz9hFBZ"
      }
    },
    {
      "cell_type": "code",
      "source": [
        "# Train the Logistic Regression model\n",
        "model = LogisticRegression()\n",
        "model.fit(X_train, y_train)\n"
      ],
      "metadata": {
        "colab": {
          "base_uri": "https://localhost:8080/",
          "height": 74
        },
        "id": "5IqtpdekhPjV",
        "outputId": "9917c4d9-5ecd-48cd-b6f3-aec5e5593e30"
      },
      "execution_count": 7,
      "outputs": [
        {
          "output_type": "execute_result",
          "data": {
            "text/plain": [
              "LogisticRegression()"
            ],
            "text/html": [
              "<style>#sk-container-id-1 {color: black;background-color: white;}#sk-container-id-1 pre{padding: 0;}#sk-container-id-1 div.sk-toggleable {background-color: white;}#sk-container-id-1 label.sk-toggleable__label {cursor: pointer;display: block;width: 100%;margin-bottom: 0;padding: 0.3em;box-sizing: border-box;text-align: center;}#sk-container-id-1 label.sk-toggleable__label-arrow:before {content: \"▸\";float: left;margin-right: 0.25em;color: #696969;}#sk-container-id-1 label.sk-toggleable__label-arrow:hover:before {color: black;}#sk-container-id-1 div.sk-estimator:hover label.sk-toggleable__label-arrow:before {color: black;}#sk-container-id-1 div.sk-toggleable__content {max-height: 0;max-width: 0;overflow: hidden;text-align: left;background-color: #f0f8ff;}#sk-container-id-1 div.sk-toggleable__content pre {margin: 0.2em;color: black;border-radius: 0.25em;background-color: #f0f8ff;}#sk-container-id-1 input.sk-toggleable__control:checked~div.sk-toggleable__content {max-height: 200px;max-width: 100%;overflow: auto;}#sk-container-id-1 input.sk-toggleable__control:checked~label.sk-toggleable__label-arrow:before {content: \"▾\";}#sk-container-id-1 div.sk-estimator input.sk-toggleable__control:checked~label.sk-toggleable__label {background-color: #d4ebff;}#sk-container-id-1 div.sk-label input.sk-toggleable__control:checked~label.sk-toggleable__label {background-color: #d4ebff;}#sk-container-id-1 input.sk-hidden--visually {border: 0;clip: rect(1px 1px 1px 1px);clip: rect(1px, 1px, 1px, 1px);height: 1px;margin: -1px;overflow: hidden;padding: 0;position: absolute;width: 1px;}#sk-container-id-1 div.sk-estimator {font-family: monospace;background-color: #f0f8ff;border: 1px dotted black;border-radius: 0.25em;box-sizing: border-box;margin-bottom: 0.5em;}#sk-container-id-1 div.sk-estimator:hover {background-color: #d4ebff;}#sk-container-id-1 div.sk-parallel-item::after {content: \"\";width: 100%;border-bottom: 1px solid gray;flex-grow: 1;}#sk-container-id-1 div.sk-label:hover label.sk-toggleable__label {background-color: #d4ebff;}#sk-container-id-1 div.sk-serial::before {content: \"\";position: absolute;border-left: 1px solid gray;box-sizing: border-box;top: 0;bottom: 0;left: 50%;z-index: 0;}#sk-container-id-1 div.sk-serial {display: flex;flex-direction: column;align-items: center;background-color: white;padding-right: 0.2em;padding-left: 0.2em;position: relative;}#sk-container-id-1 div.sk-item {position: relative;z-index: 1;}#sk-container-id-1 div.sk-parallel {display: flex;align-items: stretch;justify-content: center;background-color: white;position: relative;}#sk-container-id-1 div.sk-item::before, #sk-container-id-1 div.sk-parallel-item::before {content: \"\";position: absolute;border-left: 1px solid gray;box-sizing: border-box;top: 0;bottom: 0;left: 50%;z-index: -1;}#sk-container-id-1 div.sk-parallel-item {display: flex;flex-direction: column;z-index: 1;position: relative;background-color: white;}#sk-container-id-1 div.sk-parallel-item:first-child::after {align-self: flex-end;width: 50%;}#sk-container-id-1 div.sk-parallel-item:last-child::after {align-self: flex-start;width: 50%;}#sk-container-id-1 div.sk-parallel-item:only-child::after {width: 0;}#sk-container-id-1 div.sk-dashed-wrapped {border: 1px dashed gray;margin: 0 0.4em 0.5em 0.4em;box-sizing: border-box;padding-bottom: 0.4em;background-color: white;}#sk-container-id-1 div.sk-label label {font-family: monospace;font-weight: bold;display: inline-block;line-height: 1.2em;}#sk-container-id-1 div.sk-label-container {text-align: center;}#sk-container-id-1 div.sk-container {/* jupyter's `normalize.less` sets `[hidden] { display: none; }` but bootstrap.min.css set `[hidden] { display: none !important; }` so we also need the `!important` here to be able to override the default hidden behavior on the sphinx rendered scikit-learn.org. See: https://github.com/scikit-learn/scikit-learn/issues/21755 */display: inline-block !important;position: relative;}#sk-container-id-1 div.sk-text-repr-fallback {display: none;}</style><div id=\"sk-container-id-1\" class=\"sk-top-container\"><div class=\"sk-text-repr-fallback\"><pre>LogisticRegression()</pre><b>In a Jupyter environment, please rerun this cell to show the HTML representation or trust the notebook. <br />On GitHub, the HTML representation is unable to render, please try loading this page with nbviewer.org.</b></div><div class=\"sk-container\" hidden><div class=\"sk-item\"><div class=\"sk-estimator sk-toggleable\"><input class=\"sk-toggleable__control sk-hidden--visually\" id=\"sk-estimator-id-1\" type=\"checkbox\" checked><label for=\"sk-estimator-id-1\" class=\"sk-toggleable__label sk-toggleable__label-arrow\">LogisticRegression</label><div class=\"sk-toggleable__content\"><pre>LogisticRegression()</pre></div></div></div></div></div>"
            ]
          },
          "metadata": {},
          "execution_count": 7
        }
      ]
    },
    {
      "cell_type": "markdown",
      "source": [
        "**Accuracy**\n",
        "\n",
        "Metrics are used to check the model performance on predicted values and actual values."
      ],
      "metadata": {
        "id": "MJJV4Yz8htxE"
      }
    },
    {
      "cell_type": "code",
      "source": [
        "# Evaluate the model\n",
        "y_pred = model.predict(X_test)\n",
        "\n",
        "accuracy1 = model.score(X_train, y_train)\n",
        "accuracy = model.score(X_test, y_test)\n",
        "\n",
        "print(\"Training Accuracy: {:.2f}%\".format(accuracy1 * 100))\n",
        "print(\"Test Accuracy: {:.2f}%\".format(accuracy * 100))\n"
      ],
      "metadata": {
        "colab": {
          "base_uri": "https://localhost:8080/"
        },
        "id": "QT5G1R0eh1hR",
        "outputId": "0b74b77f-5821-48cd-a96a-47d1b8b3d340"
      },
      "execution_count": 8,
      "outputs": [
        {
          "output_type": "stream",
          "name": "stdout",
          "text": [
            "Training Accuracy: 74.22%\n",
            "Test Accuracy: 76.40%\n"
          ]
        }
      ]
    },
    {
      "cell_type": "markdown",
      "source": [
        "**Confusion Matrix and Classification Report**"
      ],
      "metadata": {
        "id": "VXekDz9yjmmQ"
      }
    },
    {
      "cell_type": "code",
      "source": [
        "# evaluate the model\n",
        "print(\"Confusion Matrix:\\n\", confusion_matrix(y_test, y_pred))\n",
        "print(\"\\nClassification Report:\\n\", classification_report(y_test, y_pred))\n"
      ],
      "metadata": {
        "colab": {
          "base_uri": "https://localhost:8080/"
        },
        "id": "a3jDJkPBj0Az",
        "outputId": "c41c9d81-7993-4c1c-e11c-e816f79f6556"
      },
      "execution_count": 9,
      "outputs": [
        {
          "output_type": "stream",
          "name": "stdout",
          "text": [
            "Confusion Matrix:\n",
            " [[38 11]\n",
            " [10 30]]\n",
            "\n",
            "Classification Report:\n",
            "               precision    recall  f1-score   support\n",
            "\n",
            "           0       0.79      0.78      0.78        49\n",
            "           1       0.73      0.75      0.74        40\n",
            "\n",
            "    accuracy                           0.76        89\n",
            "   macro avg       0.76      0.76      0.76        89\n",
            "weighted avg       0.76      0.76      0.76        89\n",
            "\n"
          ]
        }
      ]
    },
    {
      "cell_type": "markdown",
      "source": [
        "## Plotting decision boundary\n",
        "\n",
        "Now, let's understand how the logistic regression model is making predictions.\n",
        "\n",
        "Now we should have a better decision of what the hypothesis function is computing by drawing the decision boundary:\n",
        "\n",
        "With  $h_\\theta=g(\\theta_0+\\theta_1X_1+\\theta_2X_2)$ and $g(z)=\\frac{1}{1+e^{-z}}$,\n",
        "\n",
        "we predict $y=1$ if the sigmoild function $\\geq0.5$, so the boundary would be $\\theta_0+\\theta_1X_1+\\theta_2X_2=0$\n",
        "\n",
        "Lets , have a look at these parameters\n",
        "\n"
      ],
      "metadata": {
        "id": "F_mr-KVbkLSA"
      }
    },
    {
      "cell_type": "code",
      "source": [
        "#intercept\n",
        "b = model.intercept_[0]\n",
        "print (b)\n",
        "\n",
        "#coefficients\n",
        "print (model.coef_)"
      ],
      "metadata": {
        "colab": {
          "base_uri": "https://localhost:8080/"
        },
        "id": "qLtQt5xikfXq",
        "outputId": "390d76fe-c067-4ee9-e3ce-fdfb270eccad"
      },
      "execution_count": 10,
      "outputs": [
        {
          "output_type": "stream",
          "name": "stdout",
          "text": [
            "0.1116120736631844\n",
            "[[0.90625575 0.77301008]]\n"
          ]
        }
      ]
    },
    {
      "cell_type": "markdown",
      "source": [
        "\n",
        "<br>Here, $\\theta_0=0.11,\\theta_1=0.9,\\theta_2=0.77$,\n",
        "\n",
        "\n",
        "Therfore, our logistic regression model will be,\n",
        "\n",
        "  $f(\\mathbf{x}) = g(0.11 + 0.9x_0 + 0.77x_1)$\n",
        "\n",
        "\n",
        "- Therefore the model predicts $y=1$ if $0.11 + 0.9x_0 + 0.77x_1 >= 0$\n",
        "\n",
        "Let's see what this looks like graphically. We'll start by plotting $0.77 + 0.9x_0 + 1.1x_1 = 0$, which is equivalent to $0.77x_1 = - (0.11 + 0.9x_0$)."
      ],
      "metadata": {
        "id": "B8nYa-RX79o5"
      }
    },
    {
      "cell_type": "code",
      "source": [
        "# prompt: make scatter plot of 1st column of values of matrix X vs 2nd column of values of matrix X\n",
        "\n",
        "# Visualize the decision boundary with accuracy information\n",
        "plt.figure(figsize=(8, 6))\n",
        "\n",
        "# plt.scatter(X_test[:,0], X_test[:,1], c=y_test)\n",
        "\n",
        "sns.scatterplot(x=X_test[:, 0], y=X_test[:, 1], hue=y_test, palette={\n",
        "                0: 'blue', 1: 'red'}, marker='o')\n",
        "\n",
        "#Plot decision boundary line\n",
        "x_values = np.array([np.min(X_test[:, 1]), np.max(X_test[:, 1])])\n",
        "y_values = -(0.1116120736631844 + 0.90625575 * x_values) / 0.77301008\n",
        "plt.plot(x_values, y_values, color='k', linestyle='--', label='Decision Boundary')\n",
        "\n",
        "plt.xlabel(\"BMI\")\n",
        "plt.ylabel(\"s5\")\n",
        "plt.title(\"Logistic Regression Decision Boundary\\nAccuracy: {:.2f}%\".format(\n",
        "\taccuracy * 100))\n",
        "plt.legend(title=\"Diabetes\", loc=\"upper right\")\n",
        "plt.show()\n",
        "\n"
      ],
      "metadata": {
        "colab": {
          "base_uri": "https://localhost:8080/",
          "height": 585
        },
        "id": "1mzdycOIz8a9",
        "outputId": "8a228761-b743-4522-c98f-4c53453db76d"
      },
      "execution_count": 11,
      "outputs": [
        {
          "output_type": "display_data",
          "data": {
            "text/plain": [
              "<Figure size 800x600 with 1 Axes>"
            ],
            "image/png": "[encoded data removed]"
          },
          "metadata": {}
        }
      ]
    },
    {
      "cell_type": "markdown",
      "source": [
        "The above plot shows the decision boundary separating diabetic samples vs non-diabetic samples.\n",
        "\n",
        "\n",
        "*   Diabetic - 1 value shows diabetic people\n",
        "*   Diabetic - 0 value shows non-diabetic people\n",
        "\n"
      ],
      "metadata": {
        "id": "qNPkeKG8vkth"
      }
    },
    {
      "cell_type": "markdown",
      "source": [
        "\n",
        "# Conclusion\n",
        "In this assignment, we utilized logistic regression from scratch to conduct binary classification on the Diabetes dataset. Our goal was to differentiate between non-diabetic and diabetic individuals based on their \"s5\" feature and BMI. The plotted decision boundary illustrates the division between the two classes, showcasing the model's ability to classify data points accurately using the learned parameters."
      ],
      "metadata": {
        "id": "UUA7cQP3DNRb"
      }
    }
  ]
}